{
 "cells": [
  {
   "cell_type": "code",
   "execution_count": 4,
   "id": "111317a2",
   "metadata": {},
   "outputs": [],
   "source": [
    "import tensorflow as tf\n",
    "import numpy as np\n",
    "from tensorflow.keras.models import Sequential\n",
    "from tensorflow.keras.layers import Dense,Activation,Dropout,Conv2D,MaxPooling2D,Flatten\n",
    "from tensorflow.keras.utils import to_categorical,plot_model\n",
    "from tensorflow.keras.datasets import mnist"
   ]
  },
  {
   "cell_type": "markdown",
   "id": "33619dfe",
   "metadata": {},
   "source": [
    "### Load mnist dataset"
   ]
  },
  {
   "cell_type": "code",
   "execution_count": 5,
   "id": "4acb898d",
   "metadata": {},
   "outputs": [],
   "source": [
    "(x_train,y_train),(x_test,y_test) = mnist.load_data()"
   ]
  },
  {
   "cell_type": "markdown",
   "id": "c1f8e412",
   "metadata": {},
   "source": [
    "### compute the number of labels"
   ]
  },
  {
   "cell_type": "code",
   "execution_count": 6,
   "id": "f2cd880e",
   "metadata": {},
   "outputs": [],
   "source": [
    "num_labels =len(np.unique(y_train))"
   ]
  },
  {
   "cell_type": "markdown",
   "id": "955a863d",
   "metadata": {},
   "source": [
    "### convert to one hot vector"
   ]
  },
  {
   "cell_type": "code",
   "execution_count": 7,
   "id": "65db82ef",
   "metadata": {},
   "outputs": [],
   "source": [
    "y_train = to_categorical(y_train)\n",
    "y_test = to_categorical(y_test)"
   ]
  },
  {
   "cell_type": "markdown",
   "id": "28de1e55",
   "metadata": {},
   "source": [
    "### Image Dimensions"
   ]
  },
  {
   "cell_type": "code",
   "execution_count": 8,
   "id": "be5e67cb",
   "metadata": {},
   "outputs": [],
   "source": [
    "image_size = x_train.shape[1]"
   ]
  },
  {
   "cell_type": "markdown",
   "id": "155454f5",
   "metadata": {},
   "source": [
    "### resize and normalize"
   ]
  },
  {
   "cell_type": "code",
   "execution_count": 9,
   "id": "40e6367b",
   "metadata": {},
   "outputs": [],
   "source": [
    "x_train = np.reshape(x_train,[-1,image_size,image_size,1])\n",
    "x_test = np.reshape(x_test,[-1,image_size,image_size,1])\n",
    "\n",
    "x_train = x_train.astype('float32')/255\n",
    "x_test = x_test.astype('float32')/255\n"
   ]
  },
  {
   "cell_type": "markdown",
   "id": "8a4e4ed6",
   "metadata": {},
   "source": [
    "### Network parameter"
   ]
  },
  {
   "cell_type": "code",
   "execution_count": 13,
   "id": "49f9627a",
   "metadata": {},
   "outputs": [],
   "source": [
    "input_shape = (image_size,image_size,1)\n",
    "batch_size = 128\n",
    "kernel_size = 3\n",
    "pool_size = 2\n",
    "filters = 64\n",
    "dropout = 0.2"
   ]
  },
  {
   "cell_type": "markdown",
   "id": "71421c43",
   "metadata": {},
   "source": [
    "### Model is a stack of CNN Relu MaxPooling"
   ]
  },
  {
   "cell_type": "code",
   "execution_count": 16,
   "id": "e21c2adb",
   "metadata": {},
   "outputs": [],
   "source": [
    "model = Sequential()"
   ]
  },
  {
   "cell_type": "code",
   "execution_count": 17,
   "id": "5aa8ca2d",
   "metadata": {},
   "outputs": [
    {
     "name": "stdout",
     "output_type": "stream",
     "text": [
      "Model: \"sequential_1\"\n",
      "_________________________________________________________________\n",
      " Layer (type)                Output Shape              Param #   \n",
      "=================================================================\n",
      " conv2d_5 (Conv2D)           (None, 26, 26, 64)        640       \n",
      "                                                                 \n",
      " max_pooling2d_3 (MaxPooling  (None, 13, 13, 64)       0         \n",
      " 2D)                                                             \n",
      "                                                                 \n",
      " conv2d_6 (Conv2D)           (None, 11, 11, 64)        36928     \n",
      "                                                                 \n",
      " max_pooling2d_4 (MaxPooling  (None, 5, 5, 64)         0         \n",
      " 2D)                                                             \n",
      "                                                                 \n",
      " conv2d_7 (Conv2D)           (None, 3, 3, 64)          36928     \n",
      "                                                                 \n",
      " flatten (Flatten)           (None, 576)               0         \n",
      "                                                                 \n",
      " dropout (Dropout)           (None, 576)               0         \n",
      "                                                                 \n",
      " dense (Dense)               (None, 10)                5770      \n",
      "                                                                 \n",
      " activation (Activation)     (None, 10)                0         \n",
      "                                                                 \n",
      "=================================================================\n",
      "Total params: 80,266\n",
      "Trainable params: 80,266\n",
      "Non-trainable params: 0\n",
      "_________________________________________________________________\n"
     ]
    }
   ],
   "source": [
    "model.add(Conv2D(filters=filters,kernel_size = kernel_size,activation='relu',input_shape=input_shape))\n",
    "model.add(MaxPooling2D(pool_size))\n",
    "model.add(Conv2D(filters=filters,kernel_size=kernel_size,activation='relu'))\n",
    "model.add(MaxPooling2D(pool_size))\n",
    "model.add(Conv2D(filters=filters,kernel_size=kernel_size,activation='relu'))\n",
    "model.add(Flatten())\n",
    "model.add(Dropout(dropout))\n",
    "model.add(Dense(num_labels))\n",
    "model.add(Activation('softmax'))\n",
    "model.summary()"
   ]
  },
  {
   "cell_type": "markdown",
   "id": "7bbcd6dd",
   "metadata": {},
   "source": [
    "### Loss function for one hot encoder use of adam optimizer accuracy is good metric for classification task"
   ]
  },
  {
   "cell_type": "code",
   "execution_count": 18,
   "id": "3f45aa9d",
   "metadata": {},
   "outputs": [],
   "source": [
    "model.compile(loss = 'categorical_crossentropy',optimizer = 'adam',metrics=['accuracy'])"
   ]
  },
  {
   "cell_type": "markdown",
   "id": "5afd1487",
   "metadata": {},
   "source": [
    "### Train the network"
   ]
  },
  {
   "cell_type": "code",
   "execution_count": 19,
   "id": "2b3eb73d",
   "metadata": {},
   "outputs": [
    {
     "name": "stdout",
     "output_type": "stream",
     "text": [
      "Epoch 1/10\n",
      "469/469 [==============================] - 22s 11ms/step - loss: 0.2721 - accuracy: 0.9177\n",
      "Epoch 2/10\n",
      "469/469 [==============================] - 3s 7ms/step - loss: 0.0700 - accuracy: 0.9790\n",
      "Epoch 3/10\n",
      "469/469 [==============================] - 3s 7ms/step - loss: 0.0497 - accuracy: 0.9844\n",
      "Epoch 4/10\n",
      "469/469 [==============================] - 3s 7ms/step - loss: 0.0411 - accuracy: 0.9868\n",
      "Epoch 5/10\n",
      "469/469 [==============================] - 3s 7ms/step - loss: 0.0350 - accuracy: 0.9890\n",
      "Epoch 6/10\n",
      "469/469 [==============================] - 3s 7ms/step - loss: 0.0308 - accuracy: 0.9906\n",
      "Epoch 7/10\n",
      "469/469 [==============================] - 3s 7ms/step - loss: 0.0259 - accuracy: 0.9915\n",
      "Epoch 8/10\n",
      "469/469 [==============================] - 3s 7ms/step - loss: 0.0227 - accuracy: 0.9930\n",
      "Epoch 9/10\n",
      "469/469 [==============================] - 3s 7ms/step - loss: 0.0190 - accuracy: 0.9938\n",
      "Epoch 10/10\n",
      "469/469 [==============================] - 3s 7ms/step - loss: 0.0176 - accuracy: 0.9941\n"
     ]
    },
    {
     "data": {
      "text/plain": [
       "<keras.callbacks.History at 0x200708d3100>"
      ]
     },
     "execution_count": 19,
     "metadata": {},
     "output_type": "execute_result"
    }
   ],
   "source": [
    "model.fit(x_train,y_train,epochs=10,batch_size = batch_size)"
   ]
  },
  {
   "cell_type": "code",
   "execution_count": 20,
   "id": "74acee78",
   "metadata": {},
   "outputs": [
    {
     "name": "stdout",
     "output_type": "stream",
     "text": [
      "79/79 - 1s - loss: 0.0275 - accuracy: 0.9924 - 758ms/epoch - 10ms/step\n"
     ]
    }
   ],
   "source": [
    "_,acc = model.evaluate(x_test,y_test,batch_size=batch_size,verbose=2)"
   ]
  },
  {
   "cell_type": "code",
   "execution_count": 22,
   "id": "fd5fe415",
   "metadata": {},
   "outputs": [
    {
     "name": "stdout",
     "output_type": "stream",
     "text": [
      "\n",
      " Test accuracy: 99.2%\n"
     ]
    }
   ],
   "source": [
    "print(\"\\n Test accuracy: %.1f%%\" %(100.0*acc))"
   ]
  },
  {
   "cell_type": "code",
   "execution_count": null,
   "id": "47198c9c",
   "metadata": {},
   "outputs": [],
   "source": []
  }
 ],
 "metadata": {
  "kernelspec": {
   "display_name": "Python 3 (ipykernel)",
   "language": "python",
   "name": "python3"
  },
  "language_info": {
   "codemirror_mode": {
    "name": "ipython",
    "version": 3
   },
   "file_extension": ".py",
   "mimetype": "text/x-python",
   "name": "python",
   "nbconvert_exporter": "python",
   "pygments_lexer": "ipython3",
   "version": "3.9.12"
  }
 },
 "nbformat": 4,
 "nbformat_minor": 5
}
