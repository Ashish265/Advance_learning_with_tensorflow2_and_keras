{
 "cells": [
  {
   "cell_type": "code",
   "execution_count": 1,
   "id": "111317a2",
   "metadata": {},
   "outputs": [],
   "source": [
    "import tensorflow as tf\n",
    "import numpy as np\n",
    "from tensorflow.keras.models import Sequential\n",
    "from tensorflow.keras.layers import Dense,Activation,Dropout,SimpleRNN\n",
    "from tensorflow.keras.utils import to_categorical,plot_model\n",
    "from tensorflow.keras.datasets import mnist"
   ]
  },
  {
   "cell_type": "markdown",
   "id": "33619dfe",
   "metadata": {},
   "source": [
    "### Load mnist dataset"
   ]
  },
  {
   "cell_type": "code",
   "execution_count": 2,
   "id": "4acb898d",
   "metadata": {},
   "outputs": [],
   "source": [
    "(x_train,y_train),(x_test,y_test) = mnist.load_data()"
   ]
  },
  {
   "cell_type": "markdown",
   "id": "c1f8e412",
   "metadata": {},
   "source": [
    "### compute the number of labels"
   ]
  },
  {
   "cell_type": "code",
   "execution_count": 3,
   "id": "f2cd880e",
   "metadata": {},
   "outputs": [],
   "source": [
    "num_labels =len(np.unique(y_train))"
   ]
  },
  {
   "cell_type": "markdown",
   "id": "955a863d",
   "metadata": {},
   "source": [
    "### convert to one hot vector"
   ]
  },
  {
   "cell_type": "code",
   "execution_count": 4,
   "id": "65db82ef",
   "metadata": {},
   "outputs": [],
   "source": [
    "y_train = to_categorical(y_train)\n",
    "y_test = to_categorical(y_test)"
   ]
  },
  {
   "cell_type": "markdown",
   "id": "28de1e55",
   "metadata": {},
   "source": [
    "### Image Dimensions"
   ]
  },
  {
   "cell_type": "code",
   "execution_count": 5,
   "id": "be5e67cb",
   "metadata": {},
   "outputs": [],
   "source": [
    "image_size = x_train.shape[1]"
   ]
  },
  {
   "cell_type": "markdown",
   "id": "155454f5",
   "metadata": {},
   "source": [
    "### resize and normalize"
   ]
  },
  {
   "cell_type": "code",
   "execution_count": 6,
   "id": "40e6367b",
   "metadata": {},
   "outputs": [],
   "source": [
    "x_train = np.reshape(x_train,[-1,image_size,image_size])\n",
    "x_test = np.reshape(x_test,[-1,image_size,image_size])\n",
    "\n",
    "x_train = x_train.astype('float32')/255\n",
    "x_test = x_test.astype('float32')/255\n"
   ]
  },
  {
   "cell_type": "markdown",
   "id": "8a4e4ed6",
   "metadata": {},
   "source": [
    "### Network parameter"
   ]
  },
  {
   "cell_type": "code",
   "execution_count": 7,
   "id": "49f9627a",
   "metadata": {},
   "outputs": [],
   "source": [
    "input_shape = (image_size,image_size)\n",
    "batch_size = 128\n",
    "units = 256\n",
    "dropout = 0.2"
   ]
  },
  {
   "cell_type": "markdown",
   "id": "71421c43",
   "metadata": {},
   "source": [
    "### Model is a stack of RNN "
   ]
  },
  {
   "cell_type": "code",
   "execution_count": 8,
   "id": "e21c2adb",
   "metadata": {},
   "outputs": [],
   "source": [
    "model = Sequential()"
   ]
  },
  {
   "cell_type": "code",
   "execution_count": 9,
   "id": "5aa8ca2d",
   "metadata": {},
   "outputs": [
    {
     "name": "stdout",
     "output_type": "stream",
     "text": [
      "Model: \"sequential\"\n",
      "_________________________________________________________________\n",
      " Layer (type)                Output Shape              Param #   \n",
      "=================================================================\n",
      " simple_rnn (SimpleRNN)      (None, 256)               72960     \n",
      "                                                                 \n",
      " dense (Dense)               (None, 10)                2570      \n",
      "                                                                 \n",
      " activation (Activation)     (None, 10)                0         \n",
      "                                                                 \n",
      "=================================================================\n",
      "Total params: 75,530\n",
      "Trainable params: 75,530\n",
      "Non-trainable params: 0\n",
      "_________________________________________________________________\n"
     ]
    }
   ],
   "source": [
    "model.add(SimpleRNN(units=units,dropout = dropout,input_shape=input_shape))\n",
    "model.add(Dense(num_labels))\n",
    "model.add(Activation('softmax'))\n",
    "model.summary()"
   ]
  },
  {
   "cell_type": "markdown",
   "id": "7bbcd6dd",
   "metadata": {},
   "source": [
    "### Loss function for one hot encoder use of sgd optimizer accuracy is good metric for classification task"
   ]
  },
  {
   "cell_type": "code",
   "execution_count": 10,
   "id": "3f45aa9d",
   "metadata": {},
   "outputs": [],
   "source": [
    "model.compile(loss = 'categorical_crossentropy',optimizer = 'sgd',metrics=['accuracy'])"
   ]
  },
  {
   "cell_type": "markdown",
   "id": "5afd1487",
   "metadata": {},
   "source": [
    "### Train the network"
   ]
  },
  {
   "cell_type": "code",
   "execution_count": 11,
   "id": "2b3eb73d",
   "metadata": {},
   "outputs": [
    {
     "name": "stdout",
     "output_type": "stream",
     "text": [
      "Epoch 1/20\n",
      "469/469 [==============================] - 11s 22ms/step - loss: 0.7469 - accuracy: 0.7846\n",
      "Epoch 2/20\n",
      "469/469 [==============================] - 11s 24ms/step - loss: 0.3357 - accuracy: 0.9013\n",
      "Epoch 3/20\n",
      "469/469 [==============================] - 11s 24ms/step - loss: 0.2490 - accuracy: 0.9264\n",
      "Epoch 4/20\n",
      "469/469 [==============================] - 12s 25ms/step - loss: 0.2036 - accuracy: 0.9387\n",
      "Epoch 5/20\n",
      "469/469 [==============================] - 11s 24ms/step - loss: 0.1764 - accuracy: 0.9472\n",
      "Epoch 6/20\n",
      "469/469 [==============================] - 11s 23ms/step - loss: 0.1554 - accuracy: 0.9545\n",
      "Epoch 7/20\n",
      "469/469 [==============================] - 11s 23ms/step - loss: 0.1416 - accuracy: 0.9576\n",
      "Epoch 8/20\n",
      "469/469 [==============================] - 11s 23ms/step - loss: 0.1300 - accuracy: 0.9610\n",
      "Epoch 9/20\n",
      "469/469 [==============================] - 11s 23ms/step - loss: 0.1216 - accuracy: 0.9639\n",
      "Epoch 10/20\n",
      "469/469 [==============================] - 11s 24ms/step - loss: 0.1121 - accuracy: 0.9663\n",
      "Epoch 11/20\n",
      "469/469 [==============================] - 11s 24ms/step - loss: 0.1084 - accuracy: 0.9673\n",
      "Epoch 12/20\n",
      "469/469 [==============================] - 11s 23ms/step - loss: 0.1022 - accuracy: 0.9694\n",
      "Epoch 13/20\n",
      "469/469 [==============================] - 11s 24ms/step - loss: 0.0965 - accuracy: 0.9710\n",
      "Epoch 14/20\n",
      "469/469 [==============================] - 11s 23ms/step - loss: 0.0916 - accuracy: 0.9726\n",
      "Epoch 15/20\n",
      "469/469 [==============================] - 11s 23ms/step - loss: 0.0876 - accuracy: 0.9734\n",
      "Epoch 16/20\n",
      "469/469 [==============================] - 11s 24ms/step - loss: 0.0835 - accuracy: 0.9747\n",
      "Epoch 17/20\n",
      "469/469 [==============================] - 12s 25ms/step - loss: 0.0810 - accuracy: 0.9756\n",
      "Epoch 18/20\n",
      "469/469 [==============================] - 12s 25ms/step - loss: 0.0788 - accuracy: 0.9752\n",
      "Epoch 19/20\n",
      "469/469 [==============================] - 12s 25ms/step - loss: 0.0758 - accuracy: 0.9765\n",
      "Epoch 20/20\n",
      "469/469 [==============================] - 12s 25ms/step - loss: 0.0743 - accuracy: 0.9770\n"
     ]
    },
    {
     "data": {
      "text/plain": [
       "<keras.callbacks.History at 0x20321b103d0>"
      ]
     },
     "execution_count": 11,
     "metadata": {},
     "output_type": "execute_result"
    }
   ],
   "source": [
    "model.fit(x_train,y_train,epochs=20,batch_size = batch_size)"
   ]
  },
  {
   "cell_type": "code",
   "execution_count": 12,
   "id": "74acee78",
   "metadata": {},
   "outputs": [
    {
     "name": "stdout",
     "output_type": "stream",
     "text": [
      "79/79 [==============================] - 1s 7ms/step - loss: 0.0606 - accuracy: 0.9819\n"
     ]
    }
   ],
   "source": [
    "_,acc = model.evaluate(x_test,y_test,batch_size=batch_size,verbose=1)"
   ]
  },
  {
   "cell_type": "code",
   "execution_count": 13,
   "id": "fd5fe415",
   "metadata": {},
   "outputs": [
    {
     "name": "stdout",
     "output_type": "stream",
     "text": [
      "\n",
      " Test accuracy: 98.2%\n"
     ]
    }
   ],
   "source": [
    "print(\"\\n Test accuracy: %.1f%%\" %(100.0*acc))"
   ]
  },
  {
   "cell_type": "code",
   "execution_count": null,
   "id": "47198c9c",
   "metadata": {},
   "outputs": [],
   "source": []
  }
 ],
 "metadata": {
  "kernelspec": {
   "display_name": "Python 3 (ipykernel)",
   "language": "python",
   "name": "python3"
  },
  "language_info": {
   "codemirror_mode": {
    "name": "ipython",
    "version": 3
   },
   "file_extension": ".py",
   "mimetype": "text/x-python",
   "name": "python",
   "nbconvert_exporter": "python",
   "pygments_lexer": "ipython3",
   "version": "3.9.12"
  }
 },
 "nbformat": 4,
 "nbformat_minor": 5
}
