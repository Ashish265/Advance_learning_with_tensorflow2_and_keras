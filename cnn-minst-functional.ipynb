{
 "cells": [
  {
   "cell_type": "code",
   "execution_count": 10,
   "id": "111317a2",
   "metadata": {},
   "outputs": [],
   "source": [
    "import tensorflow as tf\n",
    "import numpy as np\n",
    "from tensorflow.keras.models import Model\n",
    "from tensorflow.keras.layers import Dense,Activation,Dropout,Conv2D,MaxPooling2D,Flatten,Input\n",
    "from tensorflow.keras.utils import to_categorical,plot_model\n",
    "from tensorflow.keras.datasets import mnist"
   ]
  },
  {
   "cell_type": "markdown",
   "id": "33619dfe",
   "metadata": {},
   "source": [
    "### Load mnist dataset"
   ]
  },
  {
   "cell_type": "code",
   "execution_count": 2,
   "id": "4acb898d",
   "metadata": {},
   "outputs": [],
   "source": [
    "(x_train,y_train),(x_test,y_test) = mnist.load_data()"
   ]
  },
  {
   "cell_type": "markdown",
   "id": "c1f8e412",
   "metadata": {},
   "source": [
    "### compute the number of labels"
   ]
  },
  {
   "cell_type": "code",
   "execution_count": 3,
   "id": "f2cd880e",
   "metadata": {},
   "outputs": [],
   "source": [
    "num_labels =len(np.unique(y_train))"
   ]
  },
  {
   "cell_type": "markdown",
   "id": "955a863d",
   "metadata": {},
   "source": [
    "### convert to one hot vector"
   ]
  },
  {
   "cell_type": "code",
   "execution_count": 4,
   "id": "65db82ef",
   "metadata": {},
   "outputs": [],
   "source": [
    "y_train = to_categorical(y_train)\n",
    "y_test = to_categorical(y_test)"
   ]
  },
  {
   "cell_type": "markdown",
   "id": "28de1e55",
   "metadata": {},
   "source": [
    "### Image Dimensions"
   ]
  },
  {
   "cell_type": "code",
   "execution_count": 5,
   "id": "be5e67cb",
   "metadata": {},
   "outputs": [],
   "source": [
    "image_size = x_train.shape[1]"
   ]
  },
  {
   "cell_type": "markdown",
   "id": "155454f5",
   "metadata": {},
   "source": [
    "### resize and normalize"
   ]
  },
  {
   "cell_type": "code",
   "execution_count": 6,
   "id": "40e6367b",
   "metadata": {},
   "outputs": [],
   "source": [
    "x_train = np.reshape(x_train,[-1,image_size,image_size,1])\n",
    "x_test = np.reshape(x_test,[-1,image_size,image_size,1])\n",
    "\n",
    "x_train = x_train.astype('float32')/255\n",
    "x_test = x_test.astype('float32')/255\n"
   ]
  },
  {
   "cell_type": "markdown",
   "id": "8a4e4ed6",
   "metadata": {},
   "source": [
    "### Network parameter"
   ]
  },
  {
   "cell_type": "code",
   "execution_count": 7,
   "id": "49f9627a",
   "metadata": {},
   "outputs": [],
   "source": [
    "input_shape = (image_size,image_size,1)\n",
    "batch_size = 128\n",
    "kernel_size = 3\n",
    "filters = 64\n",
    "dropout = 0.3"
   ]
  },
  {
   "cell_type": "markdown",
   "id": "71421c43",
   "metadata": {},
   "source": [
    "### Use functional API to build cnn layers"
   ]
  },
  {
   "cell_type": "code",
   "execution_count": 11,
   "id": "321b4bf3",
   "metadata": {},
   "outputs": [],
   "source": [
    "inputs = Input(shape=input_shape)"
   ]
  },
  {
   "cell_type": "code",
   "execution_count": 12,
   "id": "058a36c6",
   "metadata": {},
   "outputs": [],
   "source": [
    "y = Conv2D(filters=filters,kernel_size = kernel_size,activation='relu')(inputs)\n",
    "y = MaxPooling2D()(y)\n",
    "y = Conv2D(filters=filters,kernel_size = kernel_size,activation='relu')(y)\n",
    "y = MaxPooling2D()(y)\n",
    "y = Conv2D(filters=filters,kernel_size = kernel_size,activation='relu')(y)\n",
    "y = Flatten()(y)\n",
    "y = Dropout(dropout)(y)\n",
    "outputs = Dense(num_labels,activation='softmax')(y)"
   ]
  },
  {
   "cell_type": "code",
   "execution_count": 13,
   "id": "5aa8ca2d",
   "metadata": {},
   "outputs": [
    {
     "name": "stdout",
     "output_type": "stream",
     "text": [
      "Model: \"model\"\n",
      "_________________________________________________________________\n",
      " Layer (type)                Output Shape              Param #   \n",
      "=================================================================\n",
      " input_1 (InputLayer)        [(None, 28, 28, 1)]       0         \n",
      "                                                                 \n",
      " conv2d (Conv2D)             (None, 26, 26, 64)        640       \n",
      "                                                                 \n",
      " max_pooling2d (MaxPooling2D  (None, 13, 13, 64)       0         \n",
      " )                                                               \n",
      "                                                                 \n",
      " conv2d_1 (Conv2D)           (None, 11, 11, 64)        36928     \n",
      "                                                                 \n",
      " max_pooling2d_1 (MaxPooling  (None, 5, 5, 64)         0         \n",
      " 2D)                                                             \n",
      "                                                                 \n",
      " conv2d_2 (Conv2D)           (None, 3, 3, 64)          36928     \n",
      "                                                                 \n",
      " flatten (Flatten)           (None, 576)               0         \n",
      "                                                                 \n",
      " dropout (Dropout)           (None, 576)               0         \n",
      "                                                                 \n",
      " dense (Dense)               (None, 10)                5770      \n",
      "                                                                 \n",
      "=================================================================\n",
      "Total params: 80,266\n",
      "Trainable params: 80,266\n",
      "Non-trainable params: 0\n",
      "_________________________________________________________________\n"
     ]
    }
   ],
   "source": [
    "model = Model(inputs=inputs,outputs=outputs)\n",
    "model.summary()"
   ]
  },
  {
   "cell_type": "markdown",
   "id": "7bbcd6dd",
   "metadata": {},
   "source": [
    "### Loss function for one hot encoder use of adam optimizer accuracy is good metric for classification task"
   ]
  },
  {
   "cell_type": "code",
   "execution_count": 14,
   "id": "3f45aa9d",
   "metadata": {},
   "outputs": [],
   "source": [
    "model.compile(loss = 'categorical_crossentropy',optimizer = 'adam',metrics=['accuracy'])"
   ]
  },
  {
   "cell_type": "markdown",
   "id": "5afd1487",
   "metadata": {},
   "source": [
    "### Train the network"
   ]
  },
  {
   "cell_type": "code",
   "execution_count": 15,
   "id": "2b3eb73d",
   "metadata": {},
   "outputs": [
    {
     "name": "stdout",
     "output_type": "stream",
     "text": [
      "Epoch 1/20\n",
      "469/469 [==============================] - 21s 17ms/step - loss: 0.2701 - accuracy: 0.9150 - val_loss: 0.0559 - val_accuracy: 0.9832\n",
      "Epoch 2/20\n",
      "469/469 [==============================] - 4s 8ms/step - loss: 0.0731 - accuracy: 0.9775 - val_loss: 0.0368 - val_accuracy: 0.9885\n",
      "Epoch 3/20\n",
      "469/469 [==============================] - 5s 11ms/step - loss: 0.0526 - accuracy: 0.9838 - val_loss: 0.0370 - val_accuracy: 0.9876\n",
      "Epoch 4/20\n",
      "469/469 [==============================] - 5s 12ms/step - loss: 0.0411 - accuracy: 0.9866 - val_loss: 0.0306 - val_accuracy: 0.9897\n",
      "Epoch 5/20\n",
      "469/469 [==============================] - 6s 12ms/step - loss: 0.0364 - accuracy: 0.9882 - val_loss: 0.0267 - val_accuracy: 0.9911\n",
      "Epoch 6/20\n",
      "469/469 [==============================] - 6s 13ms/step - loss: 0.0319 - accuracy: 0.9898 - val_loss: 0.0253 - val_accuracy: 0.9915\n",
      "Epoch 7/20\n",
      "469/469 [==============================] - 7s 14ms/step - loss: 0.0272 - accuracy: 0.9912 - val_loss: 0.0229 - val_accuracy: 0.9933\n",
      "Epoch 8/20\n",
      "469/469 [==============================] - 4s 9ms/step - loss: 0.0233 - accuracy: 0.9923 - val_loss: 0.0234 - val_accuracy: 0.9932\n",
      "Epoch 9/20\n",
      "469/469 [==============================] - 6s 13ms/step - loss: 0.0214 - accuracy: 0.9934 - val_loss: 0.0240 - val_accuracy: 0.9924\n",
      "Epoch 10/20\n",
      "469/469 [==============================] - 4s 9ms/step - loss: 0.0195 - accuracy: 0.9938 - val_loss: 0.0242 - val_accuracy: 0.9925\n",
      "Epoch 11/20\n",
      "469/469 [==============================] - 6s 12ms/step - loss: 0.0182 - accuracy: 0.9940 - val_loss: 0.0222 - val_accuracy: 0.9935\n",
      "Epoch 12/20\n",
      "469/469 [==============================] - 6s 12ms/step - loss: 0.0159 - accuracy: 0.9946 - val_loss: 0.0248 - val_accuracy: 0.9921\n",
      "Epoch 13/20\n",
      "469/469 [==============================] - 5s 11ms/step - loss: 0.0137 - accuracy: 0.9958 - val_loss: 0.0264 - val_accuracy: 0.9924\n",
      "Epoch 14/20\n",
      "469/469 [==============================] - 5s 11ms/step - loss: 0.0142 - accuracy: 0.9953 - val_loss: 0.0267 - val_accuracy: 0.9929\n",
      "Epoch 15/20\n",
      "469/469 [==============================] - 6s 13ms/step - loss: 0.0127 - accuracy: 0.9955 - val_loss: 0.0226 - val_accuracy: 0.9939\n",
      "Epoch 16/20\n",
      "469/469 [==============================] - 5s 11ms/step - loss: 0.0115 - accuracy: 0.9959 - val_loss: 0.0243 - val_accuracy: 0.9934\n",
      "Epoch 17/20\n",
      "469/469 [==============================] - 6s 13ms/step - loss: 0.0112 - accuracy: 0.9962 - val_loss: 0.0239 - val_accuracy: 0.9932\n",
      "Epoch 18/20\n",
      "469/469 [==============================] - 6s 12ms/step - loss: 0.0085 - accuracy: 0.9973 - val_loss: 0.0224 - val_accuracy: 0.9937\n",
      "Epoch 19/20\n",
      "469/469 [==============================] - 5s 11ms/step - loss: 0.0102 - accuracy: 0.9965 - val_loss: 0.0248 - val_accuracy: 0.9930\n",
      "Epoch 20/20\n",
      "469/469 [==============================] - 6s 13ms/step - loss: 0.0088 - accuracy: 0.9969 - val_loss: 0.0264 - val_accuracy: 0.9934\n"
     ]
    },
    {
     "data": {
      "text/plain": [
       "<keras.callbacks.History at 0x1910bbad550>"
      ]
     },
     "execution_count": 15,
     "metadata": {},
     "output_type": "execute_result"
    }
   ],
   "source": [
    "model.fit(x_train,y_train,validation_data=(x_test,y_test),epochs=20,batch_size = batch_size)"
   ]
  },
  {
   "cell_type": "code",
   "execution_count": 16,
   "id": "74acee78",
   "metadata": {},
   "outputs": [
    {
     "name": "stdout",
     "output_type": "stream",
     "text": [
      "79/79 - 0s - loss: 0.0264 - accuracy: 0.9934 - 278ms/epoch - 4ms/step\n"
     ]
    }
   ],
   "source": [
    "score = model.evaluate(x_test,y_test,batch_size=batch_size,verbose=2)"
   ]
  },
  {
   "cell_type": "code",
   "execution_count": 17,
   "id": "fd5fe415",
   "metadata": {},
   "outputs": [
    {
     "name": "stdout",
     "output_type": "stream",
     "text": [
      "\n",
      " Test accuracy: 99.3%\n"
     ]
    }
   ],
   "source": [
    "print(\"\\n Test accuracy: %.1f%%\" %(100.0*score[1]))"
   ]
  },
  {
   "cell_type": "code",
   "execution_count": null,
   "id": "47198c9c",
   "metadata": {},
   "outputs": [],
   "source": []
  }
 ],
 "metadata": {
  "kernelspec": {
   "display_name": "Python 3 (ipykernel)",
   "language": "python",
   "name": "python3"
  },
  "language_info": {
   "codemirror_mode": {
    "name": "ipython",
    "version": 3
   },
   "file_extension": ".py",
   "mimetype": "text/x-python",
   "name": "python",
   "nbconvert_exporter": "python",
   "pygments_lexer": "ipython3",
   "version": "3.9.12"
  }
 },
 "nbformat": 4,
 "nbformat_minor": 5
}
